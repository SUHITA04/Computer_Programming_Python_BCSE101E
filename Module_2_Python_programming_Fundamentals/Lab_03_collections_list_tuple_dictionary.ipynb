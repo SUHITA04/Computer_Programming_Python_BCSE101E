{
 "cells": [
  {
   "cell_type": "markdown",
   "id": "3de93112",
   "metadata": {},
   "source": [
    "# Collections - list, tuple, dictionary, "
   ]
  },
  {
   "cell_type": "markdown",
   "id": "8726fb17",
   "metadata": {},
   "source": [
    "## List\n",
    "- List is collection of heterogeneous items\n",
    "- List size can be changed dynamically"
   ]
  },
  {
   "cell_type": "code",
   "execution_count": 3,
   "id": "0af0cf2c",
   "metadata": {},
   "outputs": [],
   "source": [
    "# declaration of a list\n",
    "my_list = [1,7,58,24, 'BCSE101E', 'NLP', 99.8,'Windows']"
   ]
  },
  {
   "cell_type": "code",
   "execution_count": 5,
   "id": "0702d2ca",
   "metadata": {},
   "outputs": [
    {
     "name": "stdout",
     "output_type": "stream",
     "text": [
      "58\n",
      "7\n",
      "NLP\n"
     ]
    }
   ],
   "source": [
    "# accessing elements of list - list index starts from 0\n",
    "print(my_list[2])\n",
    "print(my_list[1])\n",
    "print(my_list[5])"
   ]
  },
  {
   "cell_type": "code",
   "execution_count": 7,
   "id": "d69fe42a",
   "metadata": {},
   "outputs": [
    {
     "name": "stdout",
     "output_type": "stream",
     "text": [
      "before re-assigning [1, 7, 58, 24, 'BCSE101E', 'NLP', 99.8, 'Windows']\n",
      " After re-assigning [1, 7, 58, 'new_item', 'BCSE101E', 'NLP', 99.8, 'Windows']\n"
     ]
    }
   ],
   "source": [
    "# re-assigning an list index\n",
    "print('before re-assigning', my_list)\n",
    "my_list[3] = 'new_item'\n",
    "print(' After re-assigning' , my_list)"
   ]
  },
  {
   "cell_type": "code",
   "execution_count": 11,
   "id": "324fce0d",
   "metadata": {},
   "outputs": [
    {
     "name": "stdout",
     "output_type": "stream",
     "text": [
      "[58, 'new_item', 'BCSE101E', 'NLP', 99.8]\n",
      "[58, 'BCSE101E', 99.8]\n"
     ]
    }
   ],
   "source": [
    "# slicing and striding over list\n",
    "print(my_list[2:7])\n",
    "print(my_list[2:7:2])"
   ]
  },
  {
   "cell_type": "code",
   "execution_count": 6,
   "id": "634033c5",
   "metadata": {},
   "outputs": [
    {
     "name": "stdout",
     "output_type": "stream",
     "text": [
      "Windows\n",
      "99.8\n",
      "NLP\n",
      "24\n"
     ]
    }
   ],
   "source": [
    "# List can also be accessed with negaative indxing\n",
    "print(my_list[-1])\n",
    "print(my_list[-2])\n",
    "print(my_list[-3])\n",
    "print(my_list[-5])"
   ]
  },
  {
   "cell_type": "markdown",
   "id": "5bc352ca",
   "metadata": {},
   "source": [
    "## Tuples\n",
    "- tuple is also a collection of heteregenous elements"
   ]
  },
  {
   "cell_type": "code",
   "execution_count": 28,
   "id": "4618c054",
   "metadata": {},
   "outputs": [
    {
     "name": "stdout",
     "output_type": "stream",
     "text": [
      "(1, 'ram', 67, 3.14, 'BCSE101E')\n"
     ]
    }
   ],
   "source": [
    "#tuple declaration\n",
    "my_tup = (1,'ram', 67, 3.14, 'BCSE101E')\n",
    "print(my_tup)"
   ]
  },
  {
   "cell_type": "code",
   "execution_count": 30,
   "id": "8ec066b8",
   "metadata": {},
   "outputs": [
    {
     "name": "stdout",
     "output_type": "stream",
     "text": [
      "ram\n",
      "BCSE101E\n",
      "1\n"
     ]
    }
   ],
   "source": [
    "# Accessing elements of tuple - tuple indexing start from zero (0)\n",
    "print(my_tup[1])\n",
    "print(my_tup[4])\n",
    "print(my_tup[0])"
   ]
  },
  {
   "cell_type": "markdown",
   "id": "4295989a",
   "metadata": {},
   "source": [
    "## Dictionary\n",
    "- a key-value pair"
   ]
  },
  {
   "cell_type": "code",
   "execution_count": 16,
   "id": "97281ca9",
   "metadata": {},
   "outputs": [],
   "source": [
    "d= {1: 'ram', 2 :'shyam', 7: 'Mohan'}"
   ]
  },
  {
   "cell_type": "code",
   "execution_count": 17,
   "id": "cce13566",
   "metadata": {},
   "outputs": [
    {
     "name": "stdout",
     "output_type": "stream",
     "text": [
      "{1: 'ram', 2: 'shyam', 7: 'Mohan'}\n"
     ]
    }
   ],
   "source": [
    "print(d)"
   ]
  },
  {
   "cell_type": "code",
   "execution_count": 19,
   "id": "3a9daea5",
   "metadata": {},
   "outputs": [
    {
     "name": "stdout",
     "output_type": "stream",
     "text": [
      "dict_keys([1, 2, 7])\n"
     ]
    }
   ],
   "source": [
    "print(d.keys())"
   ]
  },
  {
   "cell_type": "code",
   "execution_count": 20,
   "id": "6d61911c",
   "metadata": {},
   "outputs": [
    {
     "name": "stdout",
     "output_type": "stream",
     "text": [
      "dict_values(['ram', 'shyam', 'Mohan'])\n"
     ]
    }
   ],
   "source": [
    "print(d.values())"
   ]
  },
  {
   "cell_type": "code",
   "execution_count": 21,
   "id": "9b6c13d7",
   "metadata": {},
   "outputs": [
    {
     "name": "stdout",
     "output_type": "stream",
     "text": [
      "dict_items([(1, 'ram'), (2, 'shyam'), (7, 'Mohan')])\n"
     ]
    }
   ],
   "source": [
    "print(d.items())"
   ]
  },
  {
   "cell_type": "code",
   "execution_count": 24,
   "id": "20528258",
   "metadata": {},
   "outputs": [
    {
     "name": "stdout",
     "output_type": "stream",
     "text": [
      "dict_keys([1, 2, 7])\n",
      "<class 'dict_keys'>\n"
     ]
    }
   ],
   "source": [
    "keys_list = d.keys()\n",
    "print(keys_list)\n",
    "print(type(keys_list))"
   ]
  },
  {
   "cell_type": "code",
   "execution_count": 25,
   "id": "040d0a5f",
   "metadata": {},
   "outputs": [
    {
     "name": "stdout",
     "output_type": "stream",
     "text": [
      "dict_values(['ram', 'shyam', 'Mohan'])\n",
      "<class 'dict_values'>\n"
     ]
    }
   ],
   "source": [
    "values_list = d.values()\n",
    "print(values_list)\n",
    "print(type(values_list))"
   ]
  },
  {
   "cell_type": "code",
   "execution_count": 7,
   "id": "f8880432",
   "metadata": {},
   "outputs": [
    {
     "name": "stdout",
     "output_type": "stream",
     "text": [
      "True\n"
     ]
    }
   ],
   "source": [
    "x = 5\n",
    "print(x==5)"
   ]
  },
  {
   "cell_type": "code",
   "execution_count": 9,
   "id": "221a53da",
   "metadata": {},
   "outputs": [
    {
     "name": "stdout",
     "output_type": "stream",
     "text": [
      "True\n"
     ]
    }
   ],
   "source": [
    "x = None\n",
    "print(x==None)"
   ]
  },
  {
   "cell_type": "markdown",
   "id": "e44d3afd",
   "metadata": {},
   "source": [
    "## Declaring an array with the help of `numpy` module"
   ]
  },
  {
   "cell_type": "code",
   "execution_count": 11,
   "id": "07d9b655",
   "metadata": {},
   "outputs": [],
   "source": [
    "import numpy as np"
   ]
  },
  {
   "cell_type": "code",
   "execution_count": 13,
   "id": "4b5728b4",
   "metadata": {},
   "outputs": [
    {
     "name": "stdout",
     "output_type": "stream",
     "text": [
      "[1 2 3]\n"
     ]
    }
   ],
   "source": [
    "a = np.array([1,2,3])\n",
    "print(a)"
   ]
  },
  {
   "cell_type": "code",
   "execution_count": 15,
   "id": "5cab417c",
   "metadata": {},
   "outputs": [
    {
     "name": "stdout",
     "output_type": "stream",
     "text": [
      "[[1 2 3]\n",
      " [4 5 6]\n",
      " [7 8 9]]\n"
     ]
    }
   ],
   "source": [
    "a_2d = np.array([ [1,2,3], \n",
    "                 [4,5,6], \n",
    "                 [7,8,9]\n",
    "                ])\n",
    "print(a_2d)"
   ]
  },
  {
   "cell_type": "markdown",
   "id": "bef590cb",
   "metadata": {},
   "source": [
    "## Assigments:\n",
    "- difference between an array and list"
   ]
  },
  {
   "cell_type": "code",
   "execution_count": null,
   "id": "9c7c8302",
   "metadata": {},
   "outputs": [],
   "source": []
  }
 ],
 "metadata": {
  "kernelspec": {
   "display_name": "Python 3 (ipykernel)",
   "language": "python",
   "name": "python3"
  },
  "language_info": {
   "codemirror_mode": {
    "name": "ipython",
    "version": 3
   },
   "file_extension": ".py",
   "mimetype": "text/x-python",
   "name": "python",
   "nbconvert_exporter": "python",
   "pygments_lexer": "ipython3",
   "version": "3.7.13"
  }
 },
 "nbformat": 4,
 "nbformat_minor": 5
}
