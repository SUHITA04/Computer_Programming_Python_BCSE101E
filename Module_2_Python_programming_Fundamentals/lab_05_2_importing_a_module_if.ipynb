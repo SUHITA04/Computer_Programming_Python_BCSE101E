{
 "cells": [
  {
   "cell_type": "markdown",
   "id": "db40bbfe",
   "metadata": {},
   "source": [
    "# Importing a module and `if` condtional statement"
   ]
  },
  {
   "cell_type": "markdown",
   "id": "d976163d",
   "metadata": {},
   "source": [
    "## Importing a module"
   ]
  },
  {
   "cell_type": "code",
   "execution_count": 5,
   "id": "e41ed7d4",
   "metadata": {},
   "outputs": [],
   "source": [
    "import numpy"
   ]
  },
  {
   "cell_type": "code",
   "execution_count": 4,
   "id": "5da4f61f",
   "metadata": {},
   "outputs": [],
   "source": [
    "import pandas as pd"
   ]
  },
  {
   "cell_type": "code",
   "execution_count": 6,
   "id": "87e331cf",
   "metadata": {},
   "outputs": [
    {
     "name": "stdout",
     "output_type": "stream",
     "text": [
      "[1 5 7]\n"
     ]
    }
   ],
   "source": [
    "import numpy\n",
    "a = numpy.array([1,5, 7])\n",
    "print(a)"
   ]
  },
  {
   "cell_type": "code",
   "execution_count": null,
   "id": "32b12f03",
   "metadata": {},
   "outputs": [],
   "source": [
    "import pytorch as pytorch"
   ]
  },
  {
   "cell_type": "code",
   "execution_count": null,
   "id": "93d52497",
   "metadata": {},
   "outputs": [],
   "source": [
    "import tensorflow as tf"
   ]
  },
  {
   "cell_type": "markdown",
   "id": "f6611954",
   "metadata": {},
   "source": [
    "## Conditional statement -if"
   ]
  },
  {
   "cell_type": "code",
   "execution_count": 2,
   "id": "7916501d",
   "metadata": {},
   "outputs": [
    {
     "name": "stdout",
     "output_type": "stream",
     "text": [
      "x is greater than 5\n",
      "another line inside if\n",
      "outside if statement\n"
     ]
    }
   ],
   "source": [
    "x = 8\n",
    "if x > 5:\n",
    "    print('x is greater than 5')\n",
    "    print('another line inside if')\n",
    "print('outside if statement')"
   ]
  }
 ],
 "metadata": {
  "kernelspec": {
   "display_name": "Python 3 (ipykernel)",
   "language": "python",
   "name": "python3"
  },
  "language_info": {
   "codemirror_mode": {
    "name": "ipython",
    "version": 3
   },
   "file_extension": ".py",
   "mimetype": "text/x-python",
   "name": "python",
   "nbconvert_exporter": "python",
   "pygments_lexer": "ipython3",
   "version": "3.7.13"
  }
 },
 "nbformat": 4,
 "nbformat_minor": 5
}
