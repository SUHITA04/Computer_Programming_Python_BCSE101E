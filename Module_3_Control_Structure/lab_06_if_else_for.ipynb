{
 "cells": [
  {
   "cell_type": "markdown",
   "id": "a35b6ac3",
   "metadata": {},
   "source": [
    "# Condition - If - if-else - if-elif-else multiway if"
   ]
  },
  {
   "cell_type": "markdown",
   "id": "2ea68956",
   "metadata": {},
   "source": [
    "## to check whether a number is even or odd"
   ]
  },
  {
   "cell_type": "code",
   "execution_count": 7,
   "id": "0e823fd5",
   "metadata": {},
   "outputs": [
    {
     "name": "stdout",
     "output_type": "stream",
     "text": [
      "Enter a number :101\n",
      "101 is odd number\n"
     ]
    }
   ],
   "source": [
    "num = int(input('Enter a number :'))\n",
    "rem = num %2\n",
    "if rem ==0:\n",
    "    print(' {} is even number'.format(num))\n",
    "else:\n",
    "    print('{} is odd number'.format(num))"
   ]
  },
  {
   "cell_type": "markdown",
   "id": "94c40377",
   "metadata": {},
   "source": [
    "### Flow chart of above program\n"
   ]
  },
  {
   "cell_type": "markdown",
   "id": "33edc1c5",
   "metadata": {},
   "source": [
    "## To check whether a num is divisible by 2, 3 or 5"
   ]
  },
  {
   "cell_type": "code",
   "execution_count": 9,
   "id": "fd4ea435",
   "metadata": {},
   "outputs": [
    {
     "name": "stdout",
     "output_type": "stream",
     "text": [
      "Enter a num :10\n",
      "Dividble by 2\n",
      "Divisible by 5\n"
     ]
    }
   ],
   "source": [
    "num = int(input('Enter a num :'))\n",
    "if num % 2 == 0:\n",
    "    print('Dividble by 2')\n",
    "if num % 3 == 0:\n",
    "    print('Divisible by 3')\n",
    "if num %5 == 0:\n",
    "    print('Divisible by 5')"
   ]
  },
  {
   "cell_type": "markdown",
   "id": "262869d8",
   "metadata": {},
   "source": [
    "## take a number as input\n",
    "- 1: Sunny \n",
    "- 2 - Cloudy \n",
    "- 3 - Rainy\n",
    "- Other input - invalid input  "
   ]
  },
  {
   "cell_type": "code",
   "execution_count": 14,
   "id": "4bb65a01",
   "metadata": {},
   "outputs": [
    {
     "name": "stdout",
     "output_type": "stream",
     "text": [
      "Enter a number 1\n",
      "Sunny\n"
     ]
    }
   ],
   "source": [
    "num = int(input('Enter a number '))\n",
    "if num ==1:\n",
    "    print('Sunny')\n",
    "elif num ==2:\n",
    "    print('Cloudy')\n",
    "elif num == 3:\n",
    "    print('Rainy')\n",
    "else:\n",
    "    print('Invalid input')"
   ]
  },
  {
   "cell_type": "code",
   "execution_count": 16,
   "id": "52f40691",
   "metadata": {},
   "outputs": [
    {
     "name": "stdout",
     "output_type": "stream",
     "text": [
      "Enter a number 3\n",
      "Rainy\n"
     ]
    }
   ],
   "source": [
    "num = int(input('Enter a number '))\n",
    "if num  >= 1:\n",
    "    if num ==1:\n",
    "        print('Sunny')\n",
    "    elif num ==2: \n",
    "        print('Cloudy')\n",
    "    elif num == 3:\n",
    "        print('Rainy')\n",
    "    else:\n",
    "        print('Invalid input')\n",
    "else:\n",
    "    print('Invalid input')"
   ]
  },
  {
   "cell_type": "code",
   "execution_count": 2,
   "id": "a5c59f90",
   "metadata": {},
   "outputs": [
    {
     "name": "stdout",
     "output_type": "stream",
     "text": [
      "1\n",
      "7\n",
      "5\n",
      "9\n"
     ]
    }
   ],
   "source": [
    "my_list = [1,7,5, 9]\n",
    "\n",
    "for ii in my_list:\n",
    "    print(ii)"
   ]
  },
  {
   "cell_type": "code",
   "execution_count": 18,
   "id": "969381d3",
   "metadata": {},
   "outputs": [
    {
     "name": "stdout",
     "output_type": "stream",
     "text": [
      "1\n",
      "7\n",
      "5\n",
      "9\n"
     ]
    }
   ],
   "source": [
    "for ii in my_list:\n",
    "    print(ii)"
   ]
  },
  {
   "cell_type": "code",
   "execution_count": 2,
   "id": "90aba13e",
   "metadata": {},
   "outputs": [
    {
     "name": "stdout",
     "output_type": "stream",
     "text": [
      "0 : : 1\n",
      "1 : : 7\n",
      "2 : : 5\n",
      "3 : : 9\n"
     ]
    }
   ],
   "source": [
    "for i, item in enumerate(my_list):\n",
    "    print(i, ': :', item)"
   ]
  },
  {
   "cell_type": "code",
   "execution_count": 4,
   "id": "6389e2c3",
   "metadata": {},
   "outputs": [
    {
     "name": "stdout",
     "output_type": "stream",
     "text": [
      ": : (0, 1)\n",
      ": : (1, 7)\n",
      ": : (2, 5)\n",
      ": : (3, 9)\n"
     ]
    }
   ],
   "source": [
    "for item in enumerate(my_list):\n",
    "    print(': :', item)"
   ]
  },
  {
   "cell_type": "code",
   "execution_count": 23,
   "id": "e18ca66d",
   "metadata": {},
   "outputs": [
    {
     "name": "stdout",
     "output_type": "stream",
     "text": [
      "Help on class range in module builtins:\n",
      "\n",
      "class range(object)\n",
      " |  range(stop) -> range object\n",
      " |  range(start, stop[, step]) -> range object\n",
      " |  \n",
      " |  Return an object that produces a sequence of integers from start (inclusive)\n",
      " |  to stop (exclusive) by step.  range(i, j) produces i, i+1, i+2, ..., j-1.\n",
      " |  start defaults to 0, and stop is omitted!  range(4) produces 0, 1, 2, 3.\n",
      " |  These are exactly the valid indices for a list of 4 elements.\n",
      " |  When step is given, it specifies the increment (or decrement).\n",
      " |  \n",
      " |  Methods defined here:\n",
      " |  \n",
      " |  __bool__(self, /)\n",
      " |      self != 0\n",
      " |  \n",
      " |  __contains__(self, key, /)\n",
      " |      Return key in self.\n",
      " |  \n",
      " |  __eq__(self, value, /)\n",
      " |      Return self==value.\n",
      " |  \n",
      " |  __ge__(self, value, /)\n",
      " |      Return self>=value.\n",
      " |  \n",
      " |  __getattribute__(self, name, /)\n",
      " |      Return getattr(self, name).\n",
      " |  \n",
      " |  __getitem__(self, key, /)\n",
      " |      Return self[key].\n",
      " |  \n",
      " |  __gt__(self, value, /)\n",
      " |      Return self>value.\n",
      " |  \n",
      " |  __hash__(self, /)\n",
      " |      Return hash(self).\n",
      " |  \n",
      " |  __iter__(self, /)\n",
      " |      Implement iter(self).\n",
      " |  \n",
      " |  __le__(self, value, /)\n",
      " |      Return self<=value.\n",
      " |  \n",
      " |  __len__(self, /)\n",
      " |      Return len(self).\n",
      " |  \n",
      " |  __lt__(self, value, /)\n",
      " |      Return self<value.\n",
      " |  \n",
      " |  __ne__(self, value, /)\n",
      " |      Return self!=value.\n",
      " |  \n",
      " |  __reduce__(...)\n",
      " |      Helper for pickle.\n",
      " |  \n",
      " |  __repr__(self, /)\n",
      " |      Return repr(self).\n",
      " |  \n",
      " |  __reversed__(...)\n",
      " |      Return a reverse iterator.\n",
      " |  \n",
      " |  count(...)\n",
      " |      rangeobject.count(value) -> integer -- return number of occurrences of value\n",
      " |  \n",
      " |  index(...)\n",
      " |      rangeobject.index(value) -> integer -- return index of value.\n",
      " |      Raise ValueError if the value is not present.\n",
      " |  \n",
      " |  ----------------------------------------------------------------------\n",
      " |  Static methods defined here:\n",
      " |  \n",
      " |  __new__(*args, **kwargs) from builtins.type\n",
      " |      Create and return a new object.  See help(type) for accurate signature.\n",
      " |  \n",
      " |  ----------------------------------------------------------------------\n",
      " |  Data descriptors defined here:\n",
      " |  \n",
      " |  start\n",
      " |  \n",
      " |  step\n",
      " |  \n",
      " |  stop\n",
      "\n"
     ]
    }
   ],
   "source": [
    "help(range)"
   ]
  },
  {
   "cell_type": "code",
   "execution_count": 24,
   "id": "604706a5",
   "metadata": {},
   "outputs": [
    {
     "name": "stdout",
     "output_type": "stream",
     "text": [
      "0\n",
      "1\n",
      "2\n",
      "3\n",
      "4\n",
      "5\n",
      "6\n"
     ]
    }
   ],
   "source": [
    "for num in range(7):\n",
    "    print(num)"
   ]
  },
  {
   "cell_type": "code",
   "execution_count": 25,
   "id": "588edfbd",
   "metadata": {},
   "outputs": [
    {
     "name": "stdout",
     "output_type": "stream",
     "text": [
      "7\n",
      "5\n",
      "3\n",
      "1\n"
     ]
    }
   ],
   "source": [
    "for num in range(7, 0, -2):\n",
    "    print(num)"
   ]
  },
  {
   "cell_type": "code",
   "execution_count": 4,
   "id": "833985b8",
   "metadata": {},
   "outputs": [
    {
     "name": "stdout",
     "output_type": "stream",
     "text": [
      "2 is even\n",
      "4 is even\n",
      "10 is even\n",
      "12 is even\n"
     ]
    }
   ],
   "source": [
    "# 1\n",
    "l = [2,4,7,13,10, 12]\n",
    "for item in l:\n",
    "    if item %2 ==0:\n",
    "        print(\"{} is even\".format(item))"
   ]
  },
  {
   "cell_type": "code",
   "execution_count": 6,
   "id": "0668a8af",
   "metadata": {},
   "outputs": [
    {
     "name": "stdout",
     "output_type": "stream",
     "text": [
      "48\n"
     ]
    }
   ],
   "source": [
    "list_sum = 0 \n",
    "for item in l:\n",
    "    list_sum = list_sum + item\n",
    "print(list_sum)"
   ]
  },
  {
   "cell_type": "markdown",
   "id": "d22f2922",
   "metadata": {},
   "source": [
    "#### Given a list of integers, and a number n.\n",
    "- Find whether number n is present is list. \n",
    "- Also find the index on n in the list\n"
   ]
  },
  {
   "cell_type": "code",
   "execution_count": null,
   "id": "5f75f235",
   "metadata": {},
   "outputs": [],
   "source": [
    "l = [2,4,7,13,10,12]\n",
    "n = int(input())\n",
    "found = False\n",
    "for i, item in enumerate(l):\n",
    "    if n == item:\n",
    "        found = True\n",
    "        break\n",
    "if found:\n",
    "    print(' Num found at index {}'.format(i))\n",
    "else:\n",
    "    print('Num not found')"
   ]
  }
 ],
 "metadata": {
  "kernelspec": {
   "display_name": "Python 3 (ipykernel)",
   "language": "python",
   "name": "python3"
  },
  "language_info": {
   "codemirror_mode": {
    "name": "ipython",
    "version": 3
   },
   "file_extension": ".py",
   "mimetype": "text/x-python",
   "name": "python",
   "nbconvert_exporter": "python",
   "pygments_lexer": "ipython3",
   "version": "3.7.13"
  }
 },
 "nbformat": 4,
 "nbformat_minor": 5
}
