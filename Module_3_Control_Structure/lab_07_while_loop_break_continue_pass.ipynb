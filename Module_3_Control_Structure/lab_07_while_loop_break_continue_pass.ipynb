{
 "cells": [
  {
   "cell_type": "markdown",
   "id": "510fed9d",
   "metadata": {},
   "source": [
    "# While loop\n",
    "- while loop\n",
    "- keywords `break`, `continue`, and `pass` inside loop\n",
    "- flags inside loop"
   ]
  },
  {
   "cell_type": "markdown",
   "id": "b4c11adf",
   "metadata": {},
   "source": [
    "## while loop"
   ]
  },
  {
   "cell_type": "code",
   "execution_count": 1,
   "id": "b119f60f",
   "metadata": {},
   "outputs": [
    {
     "name": "stdout",
     "output_type": "stream",
     "text": [
      "1\n",
      "2\n",
      "3\n",
      "4\n",
      "5\n"
     ]
    }
   ],
   "source": [
    "#counting number\n",
    "current_number = 1\n",
    "while current_number <= 5:\n",
    "    print(current_number)\n",
    "    current_number += 1"
   ]
  },
  {
   "cell_type": "code",
   "execution_count": null,
   "id": "58c25453",
   "metadata": {},
   "outputs": [],
   "source": [
    "#counting number\n",
    "current_number = 1\n",
    "while current_number <= 5:\n",
    "    print(current_number)\n",
    "    current_number += 1\n",
    "print('Outside while loop')"
   ]
  },
  {
   "cell_type": "code",
   "execution_count": 1,
   "id": "b88393d0",
   "metadata": {},
   "outputs": [
    {
     "name": "stdout",
     "output_type": "stream",
     "text": [
      "Alexa here! your message or quit to close:: play a dance song\n",
      "Your message is : play a dance song \n",
      "\n",
      "Alexa here! your message or quit to close:: over the sky\n",
      "Your message is : over the sky \n",
      "\n",
      "Alexa here! your message or quit to close:: in the ight\n",
      "Your message is : in the ight \n",
      "\n",
      "Alexa here! your message or quit to close:: over the cloud\n",
      "Your message is : over the cloud \n",
      "\n",
      "Alexa here! your message or quit to close:: in the meta-verse\n",
      "Your message is : in the meta-verse \n",
      "\n",
      "Alexa here! your message or quit to close:: quit\n",
      "Your message is : quit \n",
      "\n",
      "\n",
      " Quitting Alexa\n"
     ]
    }
   ],
   "source": [
    "# Alexa chatting\n",
    "message = ''\n",
    "prompt = 'Alexa here! your message or quit to close:: '\n",
    "while message != 'quit':\n",
    "    message = input(prompt)\n",
    "    print(f'Your message is : {message} \\n')\n",
    "print(f'\\n Quitting Alexa')"
   ]
  },
  {
   "cell_type": "code",
   "execution_count": 12,
   "id": "dc608ff7",
   "metadata": {},
   "outputs": [
    {
     "name": "stdout",
     "output_type": "stream",
     "text": [
      "Alexa here! please enter your message or quit to closesing me a dance song\n",
      "Your message is : sing me a dance song \n",
      "\n",
      "Alexa here! please enter your message or quit to closeover the sky\n",
      "Your message is : over the sky \n",
      "\n",
      "Alexa here! please enter your message or quit to closein the night\n",
      "Your message is : in the night \n",
      "\n",
      "Alexa here! please enter your message or quit to closeover the monn\n",
      "Your message is : over the monn \n",
      "\n",
      "Alexa here! please enter your message or quit to closeon the cloud\n",
      "Your message is : on the cloud \n",
      "\n",
      "Alexa here! please enter your message or quit to closein the meta-verse\n",
      "Your message is : in the meta-verse \n",
      "\n",
      "Alexa here! please enter your message or quit to closequit\n",
      "Your message is : quit \n",
      "\n"
     ]
    }
   ],
   "source": [
    "# Alexa chatting\n",
    "message = ''\n",
    "prompt = 'Alexa here! your message or quit to close:: '\n",
    "while message != 'quit':\n",
    "    message = input(prompt)\n",
    "    print(f'Your message is : {message} \\n')\n",
    "print(f'\\n Quitting Alexa')"
   ]
  },
  {
   "cell_type": "code",
   "execution_count": 10,
   "id": "f21a638d",
   "metadata": {},
   "outputs": [
    {
     "name": "stdout",
     "output_type": "stream",
     "text": [
      "Alexa here! please enter your message or quit to closesing me a song\n",
      "Your message is : sing me a song\n",
      "Alexa here! please enter your message or quit to closequit\n",
      "Alexa signing out! Have a good day!\n"
     ]
    }
   ],
   "source": [
    "# Alexa chatting with signout message\n",
    "prompt = 'Alexa here! please enter your message or quit to close:: '\n",
    "message= ''\n",
    "while message != 'quit':\n",
    "    message = input(prompt)\n",
    "    if message == 'quit':\n",
    "        print('Alexa signing out! Have a good day!')\n",
    "    else:\n",
    "        print(f'Your message is : {message}')\n",
    "    "
   ]
  },
  {
   "cell_type": "markdown",
   "id": "43756ae0",
   "metadata": {},
   "source": [
    "### **Assignment** how to quit above program for quit, Quit, QUIT ?"
   ]
  },
  {
   "cell_type": "code",
   "execution_count": 6,
   "id": "67aaa53c",
   "metadata": {},
   "outputs": [
    {
     "name": "stdout",
     "output_type": "stream",
     "text": [
      "Enter the target: 19\n",
      "step = 1, num = 2, target=19\n",
      "step = 2, num = 4, target=19\n",
      "step = 3, num = 8, target=19\n",
      "step = 4, num = 16, target=19\n",
      "step = 5, num = 32, target=19\n"
     ]
    }
   ],
   "source": [
    "## Using a flag - to reach the power of two (2^(num) just greatee\n",
    "##               than equal to target\n",
    "num = 1\n",
    "step = 0\n",
    "target = int(input('Enter the target: '))\n",
    "while num <= target:\n",
    "    num = num *2\n",
    "    step +=1\n",
    "    print(f'step = {step}, num = {num}, target={target}')"
   ]
  },
  {
   "cell_type": "code",
   "execution_count": 12,
   "id": "bb90f06f",
   "metadata": {},
   "outputs": [
    {
     "name": "stdout",
     "output_type": "stream",
     "text": [
      "Enter the target: 8\n",
      "step = 1, num = 2, target=8\n",
      "step = 2, num = 4, target=8\n",
      "step = 3, num = 8, target=8\n",
      "step = 4, num = 16, target=8\n",
      "step = 5, num = 32, target=8\n",
      "\n",
      " 2^5 >= 8\n"
     ]
    }
   ],
   "source": [
    "## Using a flag - to reach the power of two just less than equal to 2^n\n",
    "num = 1\n",
    "step = 0\n",
    "target = int(input('Enter the target: '))\n",
    "reached = False\n",
    "while not reached:\n",
    "    if num >= target:\n",
    "        reached= True\n",
    "    num = num *2\n",
    "    step +=1\n",
    "    print(f'step = {step}, num = {num}, target={target}')\n",
    "\n",
    "if reached:\n",
    "    print(f'\\n 2^{step} >= {target}')\n",
    "    "
   ]
  },
  {
   "cell_type": "markdown",
   "id": "dc4bf8a1",
   "metadata": {},
   "source": [
    "### How to crrect above program  ?"
   ]
  },
  {
   "cell_type": "code",
   "execution_count": 15,
   "id": "49a8deb7",
   "metadata": {},
   "outputs": [
    {
     "name": "stdout",
     "output_type": "stream",
     "text": [
      "Enter the target: 16\n",
      "step = 1, num = 2, target=16\n",
      "step = 2, num = 4, target=16\n",
      "step = 3, num = 8, target=16\n",
      "step = 4, num = 16, target=16\n",
      "\n",
      " 2^4 >= 16\n"
     ]
    }
   ],
   "source": [
    "## Using a flag - to reach the power of two just less than equal to 2^n\n",
    "num = 1\n",
    "step = 0\n",
    "target = int(input('Enter the target: '))\n",
    "reached = False\n",
    "while not reached:\n",
    "    if num >= target:\n",
    "        reached= True\n",
    "    else:\n",
    "        num = num *2\n",
    "        step +=1\n",
    "        print(f'step = {step}, num = {num}, target={target}')\n",
    "\n",
    "if reached:\n",
    "    print(f'\\n 2^{step} >= {target}')"
   ]
  },
  {
   "cell_type": "markdown",
   "id": "b8baff07",
   "metadata": {},
   "source": [
    "## `break` vs `continue` with `for` loop\n",
    "**Link**: https://pythonclass.in/difference-between-break-and-continue.php"
   ]
  },
  {
   "cell_type": "code",
   "execution_count": 16,
   "id": "04c1e11c",
   "metadata": {},
   "outputs": [
    {
     "name": "stdout",
     "output_type": "stream",
     "text": [
      "i = 2, count_of_students=10\n"
     ]
    }
   ],
   "source": [
    "# to count number of student in the right side of the class\n",
    "student_list = [ 5, 5, 4,  5, 5, 5, 3] # no of students in each row\n",
    "count_of_students = 0\n",
    "for i, item in enumerate(student_list):\n",
    "    if i ==2: \n",
    "        break\n",
    "    count_of_students += item \n",
    "    \n",
    "print(f'i = {i}, count_of_students={count_of_students}')\n",
    "    "
   ]
  },
  {
   "cell_type": "code",
   "execution_count": 17,
   "id": "8d98224e",
   "metadata": {},
   "outputs": [
    {
     "name": "stdout",
     "output_type": "stream",
     "text": [
      "i = 6, count_of_students=28\n"
     ]
    }
   ],
   "source": [
    "# to count number of student in the right side of the class\n",
    "student_list = [ 5, 5, 4,  5, 5, 5, 3] # no of students in each row\n",
    "count_of_students = 0\n",
    "for i, item in enumerate(student_list):\n",
    "    if i ==2: \n",
    "        continue\n",
    "    count_of_students += item \n",
    "    \n",
    "print(f'i = {i}, count_of_students={count_of_students}')"
   ]
  },
  {
   "cell_type": "code",
   "execution_count": 28,
   "id": "1d632df6",
   "metadata": {},
   "outputs": [
    {
     "name": "stdout",
     "output_type": "stream",
     "text": [
      "[1, 2, 3, 4, 5, 6, 7, 8, 9, 10]\n"
     ]
    }
   ],
   "source": [
    "my_list = list(range(1,11))\n",
    "print(my_list)"
   ]
  },
  {
   "cell_type": "code",
   "execution_count": null,
   "id": "eb7f98d0",
   "metadata": {},
   "outputs": [],
   "source": []
  },
  {
   "cell_type": "code",
   "execution_count": 29,
   "id": "30de9d73",
   "metadata": {},
   "outputs": [
    {
     "name": "stdout",
     "output_type": "stream",
     "text": [
      "num =1, num^2 = 1, num^3=1\n",
      "num =2, num^2 = 4, num^3=8\n",
      "num =3, num^2 = 9, num^3=27\n",
      "num =4, num^2 = 16, num^3=64\n",
      "num =5, num^2 = 25, num^3=125\n",
      "num =6, num^2 = 36, num^3=216\n",
      "num =7, num^2 = 49, num^3=343\n",
      "num =8, num^2 = 64, num^3=512\n",
      "num =9, num^2 = 81, num^3=729\n",
      "num =10, num^2 = 100, num^3=1000\n"
     ]
    }
   ],
   "source": [
    "for num in my_list:\n",
    "    print(f'num ={num}, num^2 = {num**2}, num^3={num**3}')"
   ]
  },
  {
   "cell_type": "markdown",
   "id": "51945d4c",
   "metadata": {},
   "source": [
    "#### `break` and `continue` if num==5 `for` loop"
   ]
  },
  {
   "cell_type": "code",
   "execution_count": 31,
   "id": "c8d32788",
   "metadata": {},
   "outputs": [
    {
     "name": "stdout",
     "output_type": "stream",
     "text": [
      "num =1, num^2 = 1, num^3=1\n",
      "num =2, num^2 = 4, num^3=8\n",
      "num =3, num^2 = 9, num^3=27\n",
      "num =4, num^2 = 16, num^3=64\n",
      "num =6, num^2 = 36, num^3=216\n",
      "num =7, num^2 = 49, num^3=343\n",
      "num =8, num^2 = 64, num^3=512\n",
      "num =9, num^2 = 81, num^3=729\n",
      "num =10, num^2 = 100, num^3=1000\n"
     ]
    }
   ],
   "source": [
    "# skip the processing for num=5\n",
    "for num in my_list:\n",
    "    if num == 5:\n",
    "        continue\n",
    "    print(f'num ={num}, num^2 = {num**2}, num^3={num**3}')"
   ]
  },
  {
   "cell_type": "code",
   "execution_count": 32,
   "id": "7ca06347",
   "metadata": {},
   "outputs": [
    {
     "name": "stdout",
     "output_type": "stream",
     "text": [
      "num =1, num^2 = 1, num^3=1\n",
      "num =2, num^2 = 4, num^3=8\n",
      "num =3, num^2 = 9, num^3=27\n",
      "num =4, num^2 = 16, num^3=64\n"
     ]
    }
   ],
   "source": [
    "# break the processing of loop if your get num ==5\n",
    "for num in my_list:\n",
    "    if num == 5:\n",
    "        break\n",
    "    print(f'num ={num}, num^2 = {num**2}, num^3={num**3}')"
   ]
  },
  {
   "cell_type": "markdown",
   "id": "2b0bde76",
   "metadata": {},
   "source": [
    "#### `break` and `continue` for even number inside `for` loop"
   ]
  },
  {
   "cell_type": "code",
   "execution_count": 33,
   "id": "c43c31ae",
   "metadata": {},
   "outputs": [
    {
     "name": "stdout",
     "output_type": "stream",
     "text": [
      "num =1, num^2 = 1, num^3=1\n",
      "num =3, num^2 = 9, num^3=27\n",
      "num =5, num^2 = 25, num^3=125\n",
      "num =7, num^2 = 49, num^3=343\n",
      "num =9, num^2 = 81, num^3=729\n"
     ]
    }
   ],
   "source": [
    "# skip the processing for even numbers\n",
    "for num in my_list:\n",
    "    if num %2==0:\n",
    "        continue\n",
    "    print(f'num ={num}, num^2 = {num**2}, num^3={num**3}')"
   ]
  },
  {
   "cell_type": "code",
   "execution_count": 34,
   "id": "c0e3bc22",
   "metadata": {},
   "outputs": [
    {
     "name": "stdout",
     "output_type": "stream",
     "text": [
      "num =1, num^2 = 1, num^3=1\n"
     ]
    }
   ],
   "source": [
    "# break the processing if you encountered an even number\n",
    "for num in my_list:\n",
    "    if num %2==0:\n",
    "        break\n",
    "    print(f'num ={num}, num^2 = {num**2}, num^3={num**3}')"
   ]
  },
  {
   "cell_type": "markdown",
   "id": "b64133db",
   "metadata": {},
   "source": [
    "### infinite loop"
   ]
  },
  {
   "cell_type": "code",
   "execution_count": 37,
   "id": "b5f6c512",
   "metadata": {},
   "outputs": [
    {
     "name": "stdout",
     "output_type": "stream",
     "text": [
      "1\n",
      "2\n",
      "3\n",
      "4\n",
      "5\n"
     ]
    }
   ],
   "source": [
    "x = 1\n",
    "while x <= 5:\n",
    "    print(x)\n",
    "    x += 1"
   ]
  },
  {
   "cell_type": "code",
   "execution_count": 42,
   "id": "2eae0c62",
   "metadata": {},
   "outputs": [
    {
     "name": "stdout",
     "output_type": "stream",
     "text": [
      "1\n",
      "2\n",
      "3\n",
      "4\n",
      "5\n"
     ]
    }
   ],
   "source": [
    "# Infinite loop\n",
    "x = 1\n",
    "while x <= 5:\n",
    "    print(x)\n",
    "    # x +=1"
   ]
  },
  {
   "cell_type": "markdown",
   "id": "7b79cba1",
   "metadata": {},
   "source": [
    "### Alexa chatting with signout message using `break`"
   ]
  },
  {
   "cell_type": "code",
   "execution_count": 40,
   "id": "ddcc4702",
   "metadata": {},
   "outputs": [
    {
     "name": "stdout",
     "output_type": "stream",
     "text": [
      "Alexa here! please enter your message or quit to closehi Elexa\n",
      "\n",
      "Your message is : hi Elexa\n",
      "Alexa here! please enter your message or quit to closeRead a book for me\n",
      "\n",
      "Your message is : Read a book for me\n",
      "Alexa here! please enter your message or quit to closeIncrease the volume\n",
      "\n",
      "Your message is : Increase the volume\n",
      "Alexa here! please enter your message or quit to closequit\n",
      "\n",
      "Alexa signing out! Have a good day!\n"
     ]
    }
   ],
   "source": [
    "### # Alexa chatting with signout message\n",
    "prompt = 'Alexa here! please enter your message or quit to close'\n",
    "message= ''\n",
    "while True:\n",
    "    message = input(prompt)\n",
    "    if message == 'quit':\n",
    "        print('\\nAlexa signing out! Have a good day!')\n",
    "        break\n",
    "    else:\n",
    "        print(f'\\nYour message is : {message}')"
   ]
  }
 ],
 "metadata": {
  "kernelspec": {
   "display_name": "Python [conda env:miniconda3-BCSE101E] *",
   "language": "python",
   "name": "conda-env-miniconda3-BCSE101E-py"
  },
  "language_info": {
   "codemirror_mode": {
    "name": "ipython",
    "version": 3
   },
   "file_extension": ".py",
   "mimetype": "text/x-python",
   "name": "python",
   "nbconvert_exporter": "python",
   "pygments_lexer": "ipython3",
   "version": "3.7.13"
  }
 },
 "nbformat": 4,
 "nbformat_minor": 5
}
